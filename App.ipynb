{
 "cells": [
  {
   "cell_type": "code",
   "execution_count": 2,
   "metadata": {},
   "outputs": [
    {
     "name": "stdout",
     "output_type": "stream",
     "text": [
      "Data Saved\n",
      "Data Saved\n",
      "Data Saved\n",
      "Data Saved\n"
     ]
    }
   ],
   "source": [
    "import kivy\n",
    "from kivy.app import App \n",
    "from kivy.uix.label import Label\n",
    "from kivy.uix.gridlayout import GridLayout\n",
    "from kivy.uix.textinput import TextInput\n",
    "from kivy.uix.button import Button\n",
    "from kivy.uix.widget import Widget\n",
    "from kivy.properties import ObjectProperty\n",
    "from kivy.uix.floatlayout import FloatLayout\n",
    "from kivy.graphics import Rectangle\n",
    "from kivy.graphics import Color\n",
    "from kivy.graphics import Line\n",
    "from kivy.lang import Builder\n",
    "from kivy.uix.screenmanager import ScreenManager, Screen\n",
    "from kivy.core.window import Window\n",
    "from kivy.properties import StringProperty\n",
    "from kivy.properties import NumericProperty\n",
    "\n",
    "Window.size = (800, 800)\n",
    "\n",
    "\n",
    "\n",
    "class ConnectionWindow(Screen):\n",
    "    pass\n",
    "\n",
    "class VariablesWindow (Screen):\n",
    "    def save_data(self):\n",
    "        print(\"Data Saved\")\n",
    "    #pass\n",
    "\n",
    "class OutputWindow (Screen):\n",
    "    pass\n",
    "\n",
    "class WindowManager(ScreenManager):\n",
    "    load = StringProperty(\"\")\n",
    "    connection = StringProperty(\"\")\n",
    "\n",
    "    \n",
    "\n",
    "\n",
    "\n",
    "\n",
    "kv = Builder.load_file(\"my.kv\")\n",
    "\n",
    "\n",
    "class MyApp (App):\n",
    "    def build (self):\n",
    "        return kv\n",
    "\n",
    "#Run Program \n",
    "if __name__ == \"__main__\":\n",
    "    MyApp().run()\n",
    "\n",
    "\n",
    "\n"
   ]
  }
 ],
 "metadata": {
  "kernelspec": {
   "display_name": "Python 3.9.7 ('base')",
   "language": "python",
   "name": "python3"
  },
  "language_info": {
   "codemirror_mode": {
    "name": "ipython",
    "version": 3
   },
   "file_extension": ".py",
   "mimetype": "text/x-python",
   "name": "python",
   "nbconvert_exporter": "python",
   "pygments_lexer": "ipython3",
   "version": "3.9.7"
  },
  "orig_nbformat": 4,
  "vscode": {
   "interpreter": {
    "hash": "85518941d1944a22d6c205b4b001e05a18ba33ec9cd179536cab78ec9a957f7e"
   }
  }
 },
 "nbformat": 4,
 "nbformat_minor": 2
}
