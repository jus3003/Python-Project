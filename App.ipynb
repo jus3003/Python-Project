{
 "cells": [
  {
   "cell_type": "code",
   "execution_count": 2,
   "metadata": {},
   "outputs": [
    {
     "name": "stdout",
     "output_type": "stream",
     "text": [
      "Name: ddd email: \n"
     ]
    }
   ],
   "source": [
    "import kivy\n",
    "from kivy.app import App \n",
    "from kivy.uix.label import Label\n",
    "from kivy.uix.gridlayout import GridLayout\n",
    "from kivy.uix.textinput import TextInput\n",
    "from kivy.uix.button import Button\n",
    "from kivy.uix.widget import Widget\n",
    "from kivy.properties import ObjectProperty\n",
    "\n",
    "\n",
    "class MyGrid(Widget):\n",
    "    name = ObjectProperty(None)\n",
    "    email = ObjectProperty(None)\n",
    "\n",
    "    def btn(self):  \n",
    "        print(\"Name:\", self.name.text, \"email:\", self.email.text)\n",
    "        self.name.text = \"\"\n",
    "        self.email.text = \"\"   \n",
    "        \n",
    "\n",
    "\n",
    "\n",
    "\n",
    "#Call in App Class (Looks for class name in kivy file and runs it in python)\n",
    "class MyApp (App):\n",
    "    def build (self):\n",
    "        return MyGrid()\n",
    "\n",
    "#Run Program \n",
    "\n",
    "if __name__ == \"__main__\":\n",
    "    MyApp().run()\n",
    "\n",
    "\n",
    "\n"
   ]
  }
 ],
 "metadata": {
  "kernelspec": {
   "display_name": "Python 3.9.7 ('base')",
   "language": "python",
   "name": "python3"
  },
  "language_info": {
   "codemirror_mode": {
    "name": "ipython",
    "version": 3
   },
   "file_extension": ".py",
   "mimetype": "text/x-python",
   "name": "python",
   "nbconvert_exporter": "python",
   "pygments_lexer": "ipython3",
   "version": "3.9.7"
  },
  "orig_nbformat": 4,
  "vscode": {
   "interpreter": {
    "hash": "85518941d1944a22d6c205b4b001e05a18ba33ec9cd179536cab78ec9a957f7e"
   }
  }
 },
 "nbformat": 4,
 "nbformat_minor": 2
}
